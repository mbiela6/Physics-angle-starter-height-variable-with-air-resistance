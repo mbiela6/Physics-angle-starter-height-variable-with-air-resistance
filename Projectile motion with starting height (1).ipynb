{
 "cells": [
  {
   "cell_type": "code",
   "execution_count": null,
   "metadata": {},
   "outputs": [],
   "source": [
    "import numpy as np\n",
    "import matplotlib.pyplot as plt\n",
    "import math"
   ]
  },
  {
   "cell_type": "code",
   "execution_count": null,
   "metadata": {},
   "outputs": [],
   "source": [
    "#Set up initial conditions and check if they make sense\n",
    "\n",
    "initial_height = float( input('initial height') ) #Initial Heights\n",
    "if type( initial_height ) == float:\n",
    "    initial_height = abs( initial_height )\n",
    "else:\n",
    "    print('please put a real positive number with a decimal for the height')\n",
    "    initial_height = float( input('initial height') )\n",
    "    \n",
    "initial_velocity = float( input('initial velocity') ) #Initial Velocity\n",
    "if type(initial_velocity) == float:\n",
    "    initial_velocity = abs( initial_velocity )\n",
    "else:\n",
    "    print('please put a real positive number with a decimal for the initial velocity')\n",
    "    initial_velocity = float( input('initial velocity') )\n",
    "\n",
    "gravity = float(input('gravitational constant (sign does not matter)')) #Gravity\n",
    "gravity = abs( gravity )\n",
    "\n",
    "time_period = float(input('time period')) #Time period\n",
    "if type(initial_velocity) == float:\n",
    "    time_period = abs(time_period)\n",
    "else:\n",
    "    print('please put a real positive number with a decimal for the initial velocity')\n",
    "    time_period = input('time period')\n",
    "\n",
    "print('This simulation will find the optimal angle for a projectile at a certain height and velocity')\n",
    "\n",
    "print('How accurate should the angle be?')\n",
    "dtheta = float( input('Put a number between .01 and 90, you can put any number down but the calculations might take longer.') )\n",
    "\n",
    "print('you can hold CRL + C to stop calculations at anytime')\n",
    "\n"
   ]
  },
  {
   "cell_type": "code",
   "execution_count": null,
   "metadata": {},
   "outputs": [],
   "source": [
    "#Degree radian function\n",
    "def radian( degree ): #Degree to radian\n",
    "    return degree * ( np.pi / 180 )\n",
    "\n",
    "def degree( radian ): #Radian to degree\n",
    "    return radian * ( 180 / np.pi )"
   ]
  },
  {
   "cell_type": "code",
   "execution_count": null,
   "metadata": {},
   "outputs": [],
   "source": [
    "#setting up matricies of position velocity and acceleration\n",
    "time_matrix = np.linspace( 0, time_period, 1001 ) #set up the time positions\n",
    "\n",
    "position_x = np.zeros( ( int( 90 / dtheta ), 1001 ) )#set up position and velocity matricies with dimensions [#of angles, 1001 (time int)]\n",
    "position_y = np.zeros( ( int( 90 / dtheta ), 1001 ) )\n",
    "velocity_x = np.zeros( ( int( 90 / dtheta ), 1001 ) )\n",
    "velocity_y = np.zeros( ( int( 90 / dtheta ), 1001 ) )\n"
   ]
  },
  {
   "cell_type": "code",
   "execution_count": null,
   "metadata": {},
   "outputs": [],
   "source": [
    "#Linear independence function\n",
    "def xysplice( magnitude , angle ): #put the angle in degrees\n",
    "    vector = np.zeros(2)\n",
    "    vector[ 0 ] = magnitude * np.cos( radian( angle ) )\n",
    "    vector[ 1 ] = magnitude * np.sin( radian( angle ) )\n",
    "    return vector"
   ]
  },
  {
   "cell_type": "code",
   "execution_count": null,
   "metadata": {},
   "outputs": [],
   "source": [
    "#Setting up the intial conditions of the matricies for ever angle theta\n",
    "for i in range( int( 90 / dtheta ) ):\n",
    "    position_y[ i , 0 ] = initial_height\n",
    "    velocity_x[ i , 0 ] = xysplice( initial_velocity , ( i + 1) * dtheta )[0]\n",
    "    velocity_y[ i , 0] = xysplice( initial_velocity , ( i + 1) * dtheta )[1]\n"
   ]
  },
  {
   "cell_type": "code",
   "execution_count": null,
   "metadata": {},
   "outputs": [],
   "source": [
    "#Choice do you want to use air resitence or no air resitience\n",
    "print('This simulation is capable of doing the iterative integrals with and without air resistance')\n",
    "\n",
    "choice = str( input('would you like air resistance (y/n?)') )\n",
    "choice1 = choice.upper()\n",
    "\n",
    "if choice1 == 'Y':\n",
    "    acceleration_type = 'air'\n",
    "\n",
    "if choice1 == 'N':\n",
    "    acceleration_type = 'no air'\n",
    "    "
   ]
  },
  {
   "cell_type": "code",
   "execution_count": null,
   "metadata": {},
   "outputs": [],
   "source": [
    "#Defining the params of air resitance\n",
    "\n",
    "if acceleration_type == 'air':\n",
    "    Co_drag = float( input('coeffciant of drag (.47 for a baseball)') )\n",
    "    density = float( input('density of air (normally 1.2 kg/(m^3) for normal temperatures and pressures) )'))\n",
    "    Cs_area = 4 * np.pi * ( 7.3 / 1000 ) ** 2 #Cross sectional area of a baseball\n",
    "    Drag_coeff = Co_drag * density * Cs_area * .5"
   ]
  },
  {
   "cell_type": "code",
   "execution_count": null,
   "metadata": {},
   "outputs": [],
   "source": [
    "#Speed function\n",
    "def speed( xcomp , ycomp ):\n",
    "    speed2 = ( xcomp )** 2 + ( ycomp ) ** 2\n",
    "    return math.sqrt(speed2)"
   ]
  },
  {
   "cell_type": "code",
   "execution_count": null,
   "metadata": {
    "scrolled": false
   },
   "outputs": [],
   "source": [
    "#main loop for the distances\n",
    "#conditions if the ball hits the ground the collision does not conserve momentum and the ball stops\n",
    "\n",
    "dt = time_period/1000 #Small time intervals of t\n",
    "\n",
    "for i in range( int( 90 / dtheta ) ): #Loop over ever angle\n",
    "    for j in range( 1 , 1000 ): #loop over ever small interval t\n",
    "\n",
    "        if position_y[ i , j - 1] <= 0.0 and j > 2: #behavior if object touches the ground\n",
    "            position_y[ i , j ] = 0.0\n",
    "            position_x[ i , j ] = position_x[ i , j - 1]\n",
    "            velocity_x[ i, j ] = 0\n",
    "            velocity_y[ i , j ] = 0\n",
    "        \n",
    "        else:\n",
    "            \n",
    "            if acceleration_type == 'air': #behavior if air resistance\n",
    "                current_speed = speed( velocity_x[ i , j - 1 ] , velocity_y[ i , j - 1] )\n",
    "                mag_drag = Drag_coeff * current_speed\n",
    "                ax = -mag_drag * ( ( velocity_x[ i , j - 1] ) / ( current_speed ) )\n",
    "                ay = -gravity - ( mag_drag * ( ( velocity_y[ i , j - 1 ] ) / ( current_speed) ) )\n",
    "\n",
    "        \n",
    "            if acceleration_type == 'no air': #Behavior with no air resistance\n",
    "                ax = 0\n",
    "                ay = -gravity\n",
    "                \n",
    "            velocity_x[ i , j ] = velocity_x[ i , j - 1 ] + ax * dt #Changes in velocities for small delta t's\n",
    "            velocity_y[ i , j ] = velocity_y[ i , j - 1] + ay * dt \n",
    "            \n",
    "        \n",
    "            \n",
    "            position_x [i , j ] = position_x[ i , j - 1 ] + velocity_x[ i , j - 1] * dt #Changes in position for small delta t's\n",
    "            position_y[ i , j ] = position_y[ i , j - 1 ] + velocity_y[ i , j - 1] * dt \n",
    "            \n",
    "            \n",
    "            \n",
    "            \n",
    "        \n",
    "            "
   ]
  },
  {
   "cell_type": "code",
   "execution_count": null,
   "metadata": {
    "scrolled": true
   },
   "outputs": [],
   "source": [
    "#brute for method for finding best angle\n",
    "current_best = 0.0\n",
    "for i in range( int( 90 / dtheta) ): #find the ending position over ever angle\n",
    "    if position_x[ i , 999 ] >= current_best: #Survival of the fittest\n",
    "        best_angle = i * dtheta\n",
    "        current_best = position_x[ i , 999 ]\n"
   ]
  },
  {
   "cell_type": "code",
   "execution_count": null,
   "metadata": {},
   "outputs": [],
   "source": [
    "#Tell the user which is the best angle\n",
    "print(f'the angle { best_angle } launches the projectile the farthest, a distance of { current_best } feet')\n",
    "\n",
    "\n",
    "for i in range( int( 90 / dtheta) ): #Show all graphs\n",
    "    plt.plot( position_x[i] , position_y[i], 'r-' )\n",
    "    \n",
    "plt.plot( position_x[ int( best_angle / dtheta ) ] , position_y[ int( best_angle / dtheta ) ], 'b-')\n",
    "plt.show()#best Graph\n",
    "pass"
   ]
  },
  {
   "cell_type": "code",
   "execution_count": null,
   "metadata": {},
   "outputs": [],
   "source": [
    "#Show individual graphs rereun this cell with ctl enter to do a different graph\n",
    "print('if you would like to an individual graph type in the angle')\n",
    "again = 'y'\n",
    "while again == 'y':\n",
    "    angle = input('angle? in degrees')\n",
    "    index_angle = int( float( angle ) / dtheta )\n",
    "    index_angle -= 1\n",
    "\n",
    "    plt.plot( position_x[ index_angle ], position_y[ index_angle ] )\n",
    "    plt.xlabel('x position')\n",
    "    plt.ylabel('y position')\n",
    "    plt.show()\n",
    "    \n",
    "    plt.plot( time_matrix , velocity_x[ index_angle ], 'r-', label = 'x velocity' )\n",
    "    plt.plot( time_matrix , velocity_y[ index_angle ], 'g-', label = 'y velocity' )\n",
    "    plt.xlabel('time / s')\n",
    "    plt.ylabel('velocity')\n",
    "    plt.show()\n",
    "\n",
    "    again = input('would you like to see another angle? (y/n?)')"
   ]
  },
  {
   "cell_type": "code",
   "execution_count": null,
   "metadata": {},
   "outputs": [],
   "source": []
  }
 ],
 "metadata": {
  "kernelspec": {
   "display_name": "Python 3",
   "language": "python",
   "name": "python3"
  },
  "language_info": {
   "codemirror_mode": {
    "name": "ipython",
    "version": 3
   },
   "file_extension": ".py",
   "mimetype": "text/x-python",
   "name": "python",
   "nbconvert_exporter": "python",
   "pygments_lexer": "ipython3",
   "version": "3.7.3"
  }
 },
 "nbformat": 4,
 "nbformat_minor": 2
}
